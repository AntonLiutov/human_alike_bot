{
 "cells": [
  {
   "cell_type": "code",
   "execution_count": null,
   "id": "366544b8",
   "metadata": {},
   "outputs": [],
   "source": []
  },
  {
   "cell_type": "code",
   "execution_count": 11,
   "id": "f02cb5e9",
   "metadata": {},
   "outputs": [
    {
     "name": "stdout",
     "output_type": "stream",
     "text": [
      "1.5471103980100205\n"
     ]
    }
   ],
   "source": [
    "import numpy as np\n",
    "\n",
    "def f(t, y):\n",
    "  # Define the right-hand side of the differential equation\n",
    "  return t * y\n",
    "\n",
    "def integrate_ode(t_0, t_f, y_0, n_steps):\n",
    "  # Define the time step\n",
    "  dt = (t_f - t_0) / n_steps\n",
    "\n",
    "  # Initialize the time and solution arrays\n",
    "  t = np.zeros(n_steps + 1)\n",
    "  y = np.zeros(n_steps + 1)\n",
    "  t[0] = t_0\n",
    "  y[0] = y_0\n",
    "\n",
    "  # Integrate the differential equation using the Euler method\n",
    "  for i in range(n_steps):\n",
    "    t[i + 1] = t[i] + dt\n",
    "    y[i + 1] = y[i] + dt * f(t[i], y[i])\n",
    "\n",
    "  return t, y\n",
    "\n",
    "# Set the initial and final time, and the initial value of y\n",
    "t_0 = 0\n",
    "t_f = 1\n",
    "y_0 = 1\n",
    "\n",
    "# Set the number of steps to use in the integration\n",
    "n_steps = 10\n",
    "\n",
    "# Integrate the differential equation\n",
    "t, y = integrate_ode(t_0, t_f, y_0, n_steps)\n",
    "\n",
    "# Print the solution at the final time\n",
    "print(y[-1])"
   ]
  },
  {
   "cell_type": "code",
   "execution_count": null,
   "id": "dffab248",
   "metadata": {},
   "outputs": [],
   "source": []
  },
  {
   "cell_type": "code",
   "execution_count": 10,
   "id": "87ae6a81",
   "metadata": {},
   "outputs": [
    {
     "data": {
      "text/plain": [
       "google.auth.credentials.Credentials"
      ]
     },
     "execution_count": 10,
     "metadata": {},
     "output_type": "execute_result"
    }
   ],
   "source": [
    "google.auth.credentials.Credentials"
   ]
  },
  {
   "cell_type": "code",
   "execution_count": 3,
   "id": "2744d3b7",
   "metadata": {},
   "outputs": [
    {
     "ename": "AttributeError",
     "evalue": "type object 'Credentials' has no attribute 'from_service_account_info'",
     "output_type": "error",
     "traceback": [
      "\u001b[1;31m---------------------------------------------------------------------------\u001b[0m",
      "\u001b[1;31mAttributeError\u001b[0m                            Traceback (most recent call last)",
      "Cell \u001b[1;32mIn[3], line 9\u001b[0m\n\u001b[0;32m      6\u001b[0m project_id \u001b[38;5;241m=\u001b[39m \u001b[38;5;124m\"\u001b[39m\u001b[38;5;124mYOUR\u001b[39m\u001b[38;5;124m\\\u001b[39m\u001b[38;5;124m_PROJECT\u001b[39m\u001b[38;5;124m\\\u001b[39m\u001b[38;5;124m_ID\u001b[39m\u001b[38;5;124m\\\u001b[39m\u001b[38;5;124m_HERE\u001b[39m\u001b[38;5;124m\"\u001b[39m\n\u001b[0;32m      8\u001b[0m \u001b[38;5;66;03m# Create a Text-to-Speech client\u001b[39;00m\n\u001b[1;32m----> 9\u001b[0m client \u001b[38;5;241m=\u001b[39m texttospeech\u001b[38;5;241m.\u001b[39mTextToSpeechClient(credentials\u001b[38;5;241m=\u001b[39m\u001b[43mgoogle\u001b[49m\u001b[38;5;241;43m.\u001b[39;49m\u001b[43mauth\u001b[49m\u001b[38;5;241;43m.\u001b[39;49m\u001b[43mcredentials\u001b[49m\u001b[38;5;241;43m.\u001b[39;49m\u001b[43mCredentials\u001b[49m\u001b[38;5;241;43m.\u001b[39;49m\u001b[43mfrom_service_account_info\u001b[49m({\n\u001b[0;32m     10\u001b[0m  \u001b[38;5;124m\"\u001b[39m\u001b[38;5;124mapi\u001b[39m\u001b[38;5;124m\\\u001b[39m\u001b[38;5;124m_key\u001b[39m\u001b[38;5;124m\"\u001b[39m: api_key\n\u001b[0;32m     11\u001b[0m }))\n\u001b[0;32m     13\u001b[0m \u001b[38;5;66;03m# Set the custom voice model parameters\u001b[39;00m\n\u001b[0;32m     14\u001b[0m model \u001b[38;5;241m=\u001b[39m texttospeech\u001b[38;5;241m.\u001b[39mtypes\u001b[38;5;241m.\u001b[39mVoiceModel(\n\u001b[0;32m     15\u001b[0m  name\u001b[38;5;241m=\u001b[39m\u001b[38;5;124m\"\u001b[39m\u001b[38;5;124mcustom-voice-model\u001b[39m\u001b[38;5;124m\"\u001b[39m,\n\u001b[0;32m     16\u001b[0m  language_code\u001b[38;5;241m=\u001b[39m\u001b[38;5;124m\"\u001b[39m\u001b[38;5;124men-US\u001b[39m\u001b[38;5;124m\"\u001b[39m,\n\u001b[0;32m     17\u001b[0m  description\u001b[38;5;241m=\u001b[39m\u001b[38;5;124m\"\u001b[39m\u001b[38;5;124mA custom voice model with my own voice\u001b[39m\u001b[38;5;124m\"\u001b[39m\n\u001b[0;32m     18\u001b[0m )\n",
      "\u001b[1;31mAttributeError\u001b[0m: type object 'Credentials' has no attribute 'from_service_account_info'"
     ]
    }
   ],
   "source": [
    "import google.auth\n",
    "from google.cloud import texttospeech\n",
    "\n",
    "# Set the Google Cloud API key and the project ID\n",
    "api_key = \"YOUR\\_API\\_KEY\\_HERE\"\n",
    "project_id = \"YOUR\\_PROJECT\\_ID\\_HERE\"\n",
    "\n",
    "# Create a Text-to-Speech client\n",
    "client = texttospeech.TextToSpeechClient(credentials=google.auth.credentials.Credentials.from_service_account_info({\n",
    " \"api\\_key\": api_key\n",
    "}))\n",
    "\n",
    "# Set the custom voice model parameters\n",
    "model = texttospeech.types.VoiceModel(\n",
    " name=\"custom-voice-model\",\n",
    " language_code=\"en-US\",\n",
    " description=\"A custom voice model with my own voice\"\n",
    ")\n",
    "\n",
    "# Create a new custom voice model\n",
    "response = client.create_voice_model(model)\n",
    "print(\"Custom voice model created:\", response.name)\n",
    "\n",
    "# Set the pronunciation data for the custom voice model\n",
    "pronunciation_data = [\n",
    " texttospeech.types.Pronunciation(\n",
    " text=\"Hello, my name is John. I am an artificial intelligence.\",\n",
    " sounds_like=[\"hello my name is john i am an ai\"]\n",
    " ),\n",
    " texttospeech.types.Pronunciation(\n",
    " text=\"I can help you with a variety of tasks and questions.\",\n",
    " sounds_like=[\"i can help you with a variety of tasks and questions\"]\n",
    " )\n",
    "]\n",
    "\n",
    "# Add the pronunciation data to the custom voice model\n",
    "response = client.update_voice_model(\n",
    " model_id=response.name,\n",
    " pronunciation_data=pronunciation_data\n",
    ")\n",
    "print(\"Pronunciation data added to custom voice model\")"
   ]
  },
  {
   "cell_type": "code",
   "execution_count": null,
   "id": "c9aa380b",
   "metadata": {},
   "outputs": [],
   "source": []
  }
 ],
 "metadata": {
  "kernelspec": {
   "display_name": "Python 3 (ipykernel)",
   "language": "python",
   "name": "python3"
  },
  "language_info": {
   "codemirror_mode": {
    "name": "ipython",
    "version": 3
   },
   "file_extension": ".py",
   "mimetype": "text/x-python",
   "name": "python",
   "nbconvert_exporter": "python",
   "pygments_lexer": "ipython3",
   "version": "3.9.15"
  }
 },
 "nbformat": 4,
 "nbformat_minor": 5
}
