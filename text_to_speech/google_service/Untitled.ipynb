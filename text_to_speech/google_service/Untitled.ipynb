{
 "cells": [
  {
   "cell_type": "code",
   "execution_count": null,
   "id": "b1afbe07",
   "metadata": {},
   "outputs": [],
   "source": []
  },
  {
   "cell_type": "code",
   "execution_count": null,
   "id": "800347a0",
   "metadata": {},
   "outputs": [],
   "source": []
  },
  {
   "cell_type": "code",
   "execution_count": 10,
   "id": "80e7468a",
   "metadata": {},
   "outputs": [
    {
     "data": {
      "text/plain": [
       "google.auth.credentials.Credentials"
      ]
     },
     "execution_count": 10,
     "metadata": {},
     "output_type": "execute_result"
    }
   ],
   "source": [
    "google.auth.credentials.Credentials"
   ]
  },
  {
   "cell_type": "code",
   "execution_count": 3,
   "id": "69d5159c",
   "metadata": {},
   "outputs": [
    {
     "ename": "AttributeError",
     "evalue": "type object 'Credentials' has no attribute 'from_service_account_info'",
     "output_type": "error",
     "traceback": [
      "\u001b[1;31m---------------------------------------------------------------------------\u001b[0m",
      "\u001b[1;31mAttributeError\u001b[0m                            Traceback (most recent call last)",
      "Cell \u001b[1;32mIn[3], line 9\u001b[0m\n\u001b[0;32m      6\u001b[0m project_id \u001b[38;5;241m=\u001b[39m \u001b[38;5;124m\"\u001b[39m\u001b[38;5;124mYOUR\u001b[39m\u001b[38;5;124m\\\u001b[39m\u001b[38;5;124m_PROJECT\u001b[39m\u001b[38;5;124m\\\u001b[39m\u001b[38;5;124m_ID\u001b[39m\u001b[38;5;124m\\\u001b[39m\u001b[38;5;124m_HERE\u001b[39m\u001b[38;5;124m\"\u001b[39m\n\u001b[0;32m      8\u001b[0m \u001b[38;5;66;03m# Create a Text-to-Speech client\u001b[39;00m\n\u001b[1;32m----> 9\u001b[0m client \u001b[38;5;241m=\u001b[39m texttospeech\u001b[38;5;241m.\u001b[39mTextToSpeechClient(credentials\u001b[38;5;241m=\u001b[39m\u001b[43mgoogle\u001b[49m\u001b[38;5;241;43m.\u001b[39;49m\u001b[43mauth\u001b[49m\u001b[38;5;241;43m.\u001b[39;49m\u001b[43mcredentials\u001b[49m\u001b[38;5;241;43m.\u001b[39;49m\u001b[43mCredentials\u001b[49m\u001b[38;5;241;43m.\u001b[39;49m\u001b[43mfrom_service_account_info\u001b[49m({\n\u001b[0;32m     10\u001b[0m  \u001b[38;5;124m\"\u001b[39m\u001b[38;5;124mapi\u001b[39m\u001b[38;5;124m\\\u001b[39m\u001b[38;5;124m_key\u001b[39m\u001b[38;5;124m\"\u001b[39m: api_key\n\u001b[0;32m     11\u001b[0m }))\n\u001b[0;32m     13\u001b[0m \u001b[38;5;66;03m# Set the custom voice model parameters\u001b[39;00m\n\u001b[0;32m     14\u001b[0m model \u001b[38;5;241m=\u001b[39m texttospeech\u001b[38;5;241m.\u001b[39mtypes\u001b[38;5;241m.\u001b[39mVoiceModel(\n\u001b[0;32m     15\u001b[0m  name\u001b[38;5;241m=\u001b[39m\u001b[38;5;124m\"\u001b[39m\u001b[38;5;124mcustom-voice-model\u001b[39m\u001b[38;5;124m\"\u001b[39m,\n\u001b[0;32m     16\u001b[0m  language_code\u001b[38;5;241m=\u001b[39m\u001b[38;5;124m\"\u001b[39m\u001b[38;5;124men-US\u001b[39m\u001b[38;5;124m\"\u001b[39m,\n\u001b[0;32m     17\u001b[0m  description\u001b[38;5;241m=\u001b[39m\u001b[38;5;124m\"\u001b[39m\u001b[38;5;124mA custom voice model with my own voice\u001b[39m\u001b[38;5;124m\"\u001b[39m\n\u001b[0;32m     18\u001b[0m )\n",
      "\u001b[1;31mAttributeError\u001b[0m: type object 'Credentials' has no attribute 'from_service_account_info'"
     ]
    }
   ],
   "source": [
    "import google.auth\n",
    "from google.cloud import texttospeech\n",
    "\n",
    "# Set the Google Cloud API key and the project ID\n",
    "api_key = \"YOUR\\_API\\_KEY\\_HERE\"\n",
    "project_id = \"YOUR\\_PROJECT\\_ID\\_HERE\"\n",
    "\n",
    "# Create a Text-to-Speech client\n",
    "client = texttospeech.TextToSpeechClient(credentials=google.auth.credentials.Credentials.from_service_account_info({\n",
    " \"api\\_key\": api_key\n",
    "}))\n",
    "\n",
    "# Set the custom voice model parameters\n",
    "model = texttospeech.types.VoiceModel(\n",
    " name=\"custom-voice-model\",\n",
    " language_code=\"en-US\",\n",
    " description=\"A custom voice model with my own voice\"\n",
    ")\n",
    "\n",
    "# Create a new custom voice model\n",
    "response = client.create_voice_model(model)\n",
    "print(\"Custom voice model created:\", response.name)\n",
    "\n",
    "# Set the pronunciation data for the custom voice model\n",
    "pronunciation_data = [\n",
    " texttospeech.types.Pronunciation(\n",
    " text=\"Hello, my name is John. I am an artificial intelligence.\",\n",
    " sounds_like=[\"hello my name is john i am an ai\"]\n",
    " ),\n",
    " texttospeech.types.Pronunciation(\n",
    " text=\"I can help you with a variety of tasks and questions.\",\n",
    " sounds_like=[\"i can help you with a variety of tasks and questions\"]\n",
    " )\n",
    "]\n",
    "\n",
    "# Add the pronunciation data to the custom voice model\n",
    "response = client.update_voice_model(\n",
    " model_id=response.name,\n",
    " pronunciation_data=pronunciation_data\n",
    ")\n",
    "print(\"Pronunciation data added to custom voice model\")"
   ]
  },
  {
   "cell_type": "code",
   "execution_count": null,
   "id": "06096e8e",
   "metadata": {},
   "outputs": [],
   "source": []
  }
 ],
 "metadata": {
  "kernelspec": {
   "display_name": "Python 3 (ipykernel)",
   "language": "python",
   "name": "python3"
  },
  "language_info": {
   "codemirror_mode": {
    "name": "ipython",
    "version": 3
   },
   "file_extension": ".py",
   "mimetype": "text/x-python",
   "name": "python",
   "nbconvert_exporter": "python",
   "pygments_lexer": "ipython3",
   "version": "3.9.15"
  }
 },
 "nbformat": 4,
 "nbformat_minor": 5
}
